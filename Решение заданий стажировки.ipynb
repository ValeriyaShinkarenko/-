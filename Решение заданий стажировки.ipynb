{
 "cells": [
  {
   "cell_type": "markdown",
   "id": "c0a2509d",
   "metadata": {},
   "source": [
    "## ЗАДАНИЕ 1 ##"
   ]
  },
  {
   "cell_type": "markdown",
   "id": "04c0d229",
   "metadata": {},
   "source": [
    "Выполнение бюджета по выдачам необеспеченных потребительских кредитов4 немного отстает от плана. Нам нужно понять, что является причиной отставания, чтобы оперативно исправить ситуацию.\n",
    "В связи с этим тебе необходимо:\n",
    "\n",
    "● Провести анализ количества и уровня одобрения по поступающим заявлениям на кредит.\n",
    "\n",
    "● Определить, какой из этих показателей и в каких сегментах (по типу клиента и программе кредитования) мог привести к снижению объемов выдач.\n",
    "\n",
    "● Дать комментарии к полученным результатам.\n",
    "\n"
   ]
  },
  {
   "cell_type": "code",
   "execution_count": 1,
   "id": "9da695ce",
   "metadata": {},
   "outputs": [],
   "source": [
    "## импортируем необходимые библиотеки для анализа данных"
   ]
  },
  {
   "cell_type": "code",
   "execution_count": 1,
   "id": "e90cad5e",
   "metadata": {},
   "outputs": [],
   "source": [
    "import pandas as pd \n",
    "import matplotlib.pyplot as plt\n",
    "import seaborn as sns"
   ]
  },
  {
   "cell_type": "code",
   "execution_count": 2,
   "id": "91ae570b",
   "metadata": {},
   "outputs": [],
   "source": [
    "## загружаем данные для анализа"
   ]
  },
  {
   "cell_type": "code",
   "execution_count": 3,
   "id": "571a37ce",
   "metadata": {},
   "outputs": [],
   "source": [
    "df = pd.read_excel('Заявки.xlsx')"
   ]
  },
  {
   "cell_type": "code",
   "execution_count": 4,
   "id": "784d1ecf",
   "metadata": {},
   "outputs": [],
   "source": [
    "## Просмотр данных "
   ]
  },
  {
   "cell_type": "code",
   "execution_count": 5,
   "id": "bcff3821",
   "metadata": {},
   "outputs": [
    {
     "data": {
      "text/html": [
       "<div>\n",
       "<style scoped>\n",
       "    .dataframe tbody tr th:only-of-type {\n",
       "        vertical-align: middle;\n",
       "    }\n",
       "\n",
       "    .dataframe tbody tr th {\n",
       "        vertical-align: top;\n",
       "    }\n",
       "\n",
       "    .dataframe thead th {\n",
       "        text-align: right;\n",
       "    }\n",
       "</style>\n",
       "<table border=\"1\" class=\"dataframe\">\n",
       "  <thead>\n",
       "    <tr style=\"text-align: right;\">\n",
       "      <th></th>\n",
       "      <th>Идентификатор заявления</th>\n",
       "      <th>Программа кредитования</th>\n",
       "      <th>Тип клиента</th>\n",
       "      <th>Дата заявки</th>\n",
       "      <th>Флаг одобрения</th>\n",
       "    </tr>\n",
       "  </thead>\n",
       "  <tbody>\n",
       "    <tr>\n",
       "      <th>0</th>\n",
       "      <td>X-6BX3JFA</td>\n",
       "      <td>Standard</td>\n",
       "      <td>Существующий клиент</td>\n",
       "      <td>201901</td>\n",
       "      <td>0</td>\n",
       "    </tr>\n",
       "    <tr>\n",
       "      <th>1</th>\n",
       "      <td>X-6BJQ0PR</td>\n",
       "      <td>Standard</td>\n",
       "      <td>Существующий клиент</td>\n",
       "      <td>201901</td>\n",
       "      <td>0</td>\n",
       "    </tr>\n",
       "    <tr>\n",
       "      <th>2</th>\n",
       "      <td>X-6C63S2W</td>\n",
       "      <td>Standard</td>\n",
       "      <td>Существующий клиент</td>\n",
       "      <td>201901</td>\n",
       "      <td>0</td>\n",
       "    </tr>\n",
       "    <tr>\n",
       "      <th>3</th>\n",
       "      <td>X-6C6LLYC</td>\n",
       "      <td>Standard</td>\n",
       "      <td>Существующий клиент</td>\n",
       "      <td>201901</td>\n",
       "      <td>0</td>\n",
       "    </tr>\n",
       "    <tr>\n",
       "      <th>4</th>\n",
       "      <td>X-6CDURAK</td>\n",
       "      <td>Standard</td>\n",
       "      <td>Существующий клиент</td>\n",
       "      <td>201901</td>\n",
       "      <td>0</td>\n",
       "    </tr>\n",
       "  </tbody>\n",
       "</table>\n",
       "</div>"
      ],
      "text/plain": [
       "  Идентификатор заявления Программа кредитования          Тип клиента  \\\n",
       "0               X-6BX3JFA               Standard  Существующий клиент   \n",
       "1               X-6BJQ0PR               Standard  Существующий клиент   \n",
       "2               X-6C63S2W               Standard  Существующий клиент   \n",
       "3               X-6C6LLYC               Standard  Существующий клиент   \n",
       "4               X-6CDURAK               Standard  Существующий клиент   \n",
       "\n",
       "   Дата заявки  Флаг одобрения  \n",
       "0       201901               0  \n",
       "1       201901               0  \n",
       "2       201901               0  \n",
       "3       201901               0  \n",
       "4       201901               0  "
      ]
     },
     "execution_count": 5,
     "metadata": {},
     "output_type": "execute_result"
    }
   ],
   "source": [
    "df.head()"
   ]
  },
  {
   "cell_type": "code",
   "execution_count": null,
   "id": "abee86ec",
   "metadata": {},
   "outputs": [],
   "source": []
  },
  {
   "cell_type": "code",
   "execution_count": 6,
   "id": "25a18058",
   "metadata": {},
   "outputs": [
    {
     "name": "stdout",
     "output_type": "stream",
     "text": [
      "<class 'pandas.core.frame.DataFrame'>\n",
      "RangeIndex: 166183 entries, 0 to 166182\n",
      "Data columns (total 5 columns):\n",
      " #   Column                   Non-Null Count   Dtype \n",
      "---  ------                   --------------   ----- \n",
      " 0   Идентификатор заявления  166183 non-null  object\n",
      " 1   Программа кредитования   166183 non-null  object\n",
      " 2   Тип клиента              166183 non-null  object\n",
      " 3   Дата заявки              166183 non-null  int64 \n",
      " 4   Флаг одобрения           166183 non-null  int64 \n",
      "dtypes: int64(2), object(3)\n",
      "memory usage: 6.3+ MB\n"
     ]
    }
   ],
   "source": [
    "df.info()\n",
    " ## Общая информация о данных"
   ]
  },
  {
   "cell_type": "code",
   "execution_count": 7,
   "id": "d5ea8716",
   "metadata": {},
   "outputs": [
    {
     "data": {
      "text/plain": [
       "(166183, 5)"
      ]
     },
     "execution_count": 7,
     "metadata": {},
     "output_type": "execute_result"
    }
   ],
   "source": [
    "df.shape\n",
    "## Размерность данных. В нашем файле 5 столбцов и 166183 строчки."
   ]
  },
  {
   "cell_type": "code",
   "execution_count": 8,
   "id": "582f9b0d",
   "metadata": {},
   "outputs": [
    {
     "data": {
      "text/plain": [
       "array(['Standard', 'X-sell'], dtype=object)"
      ]
     },
     "execution_count": 8,
     "metadata": {},
     "output_type": "execute_result"
    }
   ],
   "source": [
    "## Уникальные программы кредитования. В нашем случае будут анализироваться только 2 кредитные программы.\n",
    "df['Программа кредитования'].unique()\n"
   ]
  },
  {
   "cell_type": "code",
   "execution_count": 132,
   "id": "554a3f4d",
   "metadata": {},
   "outputs": [
    {
     "data": {
      "text/plain": [
       "X-sell      114603\n",
       "Standard     51580\n",
       "Name: Программа кредитования, dtype: int64"
      ]
     },
     "execution_count": 132,
     "metadata": {},
     "output_type": "execute_result"
    }
   ],
   "source": [
    "## Общее количество заявлений по программам кредитования\n",
    "df['Программа кредитования'].value_counts()"
   ]
  },
  {
   "cell_type": "code",
   "execution_count": 11,
   "id": "8142ac93",
   "metadata": {},
   "outputs": [
    {
     "data": {
      "image/png": "[encoded data removed]",
      "text/plain": [
       "<Figure size 432x288 with 1 Axes>"
      ]
     },
     "metadata": {
      "needs_background": "light"
     },
     "output_type": "display_data"
    }
   ],
   "source": [
    "sns.countplot(x = df['Программа кредитования'])\n",
    "plt.xlabel = 'Программа креди тования'\n",
    "plt.ylabel = 'Количество заемщиков'"
   ]
  },
  {
   "cell_type": "code",
   "execution_count": 12,
   "id": "71aececa",
   "metadata": {},
   "outputs": [
    {
     "data": {
      "text/plain": [
       "array(['Существующий клиент', 'Зарплатный клиент', 'Сотрудник Банка',\n",
       "       'Сторонний клиент'], dtype=object)"
      ]
     },
     "execution_count": 12,
     "metadata": {},
     "output_type": "execute_result"
    }
   ],
   "source": [
    "## Посмотрим какие типы клиентов обслуживает банк\n",
    "df['Тип клиента'].unique()"
   ]
  },
  {
   "cell_type": "code",
   "execution_count": 13,
   "id": "384dc6da",
   "metadata": {},
   "outputs": [
    {
     "data": {
      "text/plain": [
       "Сторонний клиент       69475\n",
       "Существующий клиент    65414\n",
       "Зарплатный клиент      28296\n",
       "Сотрудник Банка         2998\n",
       "Name: Тип клиента, dtype: int64"
      ]
     },
     "execution_count": 13,
     "metadata": {},
     "output_type": "execute_result"
    }
   ],
   "source": [
    "# Количество заявлений по типам клиентов \n",
    "df['Тип клиента'].value_counts()"
   ]
  },
  {
   "cell_type": "code",
   "execution_count": 14,
   "id": "16c2f2d1",
   "metadata": {},
   "outputs": [],
   "source": [
    "## В нашем случае есть 4 группы клиентов банка"
   ]
  },
  {
   "cell_type": "code",
   "execution_count": 15,
   "id": "421f0bcd",
   "metadata": {},
   "outputs": [
    {
     "data": {
      "text/plain": [
       "0    104459\n",
       "1     61724\n",
       "Name: Флаг одобрения, dtype: int64"
      ]
     },
     "execution_count": 15,
     "metadata": {},
     "output_type": "execute_result"
    }
   ],
   "source": [
    "## Посмотрим на количество одобренных и неодобренных заявок на кредит\n",
    "df['Флаг одобрения'].value_counts()\n"
   ]
  },
  {
   "cell_type": "code",
   "execution_count": 122,
   "id": "07c48c94",
   "metadata": {},
   "outputs": [],
   "source": [
    "# Посмотрим на распределение количества одобренных и неодобренных заявялений в разрезе по программам кредатования"
   ]
  },
  {
   "cell_type": "code",
   "execution_count": 126,
   "id": "cd2ce780",
   "metadata": {},
   "outputs": [
    {
     "data": {
      "image/png": "[encoded data removed]",
      "text/plain": [
       "<Figure size 720x360 with 1 Axes>"
      ]
     },
     "metadata": {
      "needs_background": "light"
     },
     "output_type": "display_data"
    }
   ],
   "source": [
    "plt.figure(figsize=(10,5))\n",
    "sns.countplot(x='Программа кредитования', hue='Флаг одобрения', data= df)\n",
    "plt.show()\n",
    "\n"
   ]
  },
  {
   "cell_type": "markdown",
   "id": "3a3efeda",
   "metadata": {},
   "source": [
    "## Вывод: Больше одобренных заявлений на кредит по программе X-sell"
   ]
  },
  {
   "cell_type": "code",
   "execution_count": 128,
   "id": "cef61b03",
   "metadata": {},
   "outputs": [],
   "source": [
    "# Посмотрим на распределение количества одобренных и неодобренных заявялений в разрезе по типам клиентов"
   ]
  },
  {
   "cell_type": "code",
   "execution_count": 130,
   "id": "2799d984",
   "metadata": {},
   "outputs": [
    {
     "data": {
      "image/png": "[encoded data removed]",
      "text/plain": [
       "<Figure size 720x360 with 1 Axes>"
      ]
     },
     "metadata": {
      "needs_background": "light"
     },
     "output_type": "display_data"
    }
   ],
   "source": [
    "plt.figure(figsize=(10,5))\n",
    "sns.countplot(x='Тип клиента', hue='Флаг одобрения', data= df)\n",
    "plt.show()"
   ]
  },
  {
   "cell_type": "markdown",
   "id": "58a8067d",
   "metadata": {},
   "source": [
    "## Вывод: Кредит чаще всего одобряют существующим клиентам банка и зарплатным клиентам. Чаще отказ в одобрении получают клиенты стороннего банка."
   ]
  },
  {
   "cell_type": "code",
   "execution_count": null,
   "id": "155b4696",
   "metadata": {},
   "outputs": [],
   "source": [
    "# Посмотрим на распределение количества заявялений  по типам клиентов  по разным программам кредитования"
   ]
  },
  {
   "cell_type": "code",
   "execution_count": 181,
   "id": "9504e15f",
   "metadata": {},
   "outputs": [
    {
     "data": {
      "image/png": "[encoded data removed]",
      "text/plain": [
       "<Figure size 720x360 with 1 Axes>"
      ]
     },
     "metadata": {
      "needs_background": "light"
     },
     "output_type": "display_data"
    }
   ],
   "source": [
    "plt.figure(figsize=(10,5))\n",
    "sns.countplot(x='Тип клиента', hue='Программа кредитования', data= df)\n",
    "plt.show()"
   ]
  },
  {
   "cell_type": "markdown",
   "id": "f7683d60",
   "metadata": {},
   "source": [
    "## Вывод: По данному распеределию видно, что среди клиентов банка преобладает программа X-sell"
   ]
  },
  {
   "cell_type": "code",
   "execution_count": 50,
   "id": "196ab8ee",
   "metadata": {},
   "outputs": [],
   "source": [
    "# Рассмотрим  распределение общего количества завялений \n",
    "df_1 = df.groupby(df['Дата заявки']).agg({'Идентификатор заявления':'count'}).reset_index()\n",
    "df_2 = df.groupby(df['Дата заявки']).agg({'Флаг одобрения':'count'}).reset_index()"
   ]
  },
  {
   "cell_type": "code",
   "execution_count": 134,
   "id": "18c801c6",
   "metadata": {},
   "outputs": [
    {
     "data": {
      "text/html": [
       "<div>\n",
       "<style scoped>\n",
       "    .dataframe tbody tr th:only-of-type {\n",
       "        vertical-align: middle;\n",
       "    }\n",
       "\n",
       "    .dataframe tbody tr th {\n",
       "        vertical-align: top;\n",
       "    }\n",
       "\n",
       "    .dataframe thead th {\n",
       "        text-align: right;\n",
       "    }\n",
       "</style>\n",
       "<table border=\"1\" class=\"dataframe\">\n",
       "  <thead>\n",
       "    <tr style=\"text-align: right;\">\n",
       "      <th></th>\n",
       "      <th>Дата заявки</th>\n",
       "      <th>Идентификатор заявления</th>\n",
       "    </tr>\n",
       "  </thead>\n",
       "  <tbody>\n",
       "    <tr>\n",
       "      <th>0</th>\n",
       "      <td>201901</td>\n",
       "      <td>10316</td>\n",
       "    </tr>\n",
       "    <tr>\n",
       "      <th>1</th>\n",
       "      <td>201902</td>\n",
       "      <td>12014</td>\n",
       "    </tr>\n",
       "    <tr>\n",
       "      <th>2</th>\n",
       "      <td>201903</td>\n",
       "      <td>14254</td>\n",
       "    </tr>\n",
       "    <tr>\n",
       "      <th>3</th>\n",
       "      <td>201904</td>\n",
       "      <td>15956</td>\n",
       "    </tr>\n",
       "    <tr>\n",
       "      <th>4</th>\n",
       "      <td>201905</td>\n",
       "      <td>12684</td>\n",
       "    </tr>\n",
       "    <tr>\n",
       "      <th>5</th>\n",
       "      <td>201906</td>\n",
       "      <td>13063</td>\n",
       "    </tr>\n",
       "    <tr>\n",
       "      <th>6</th>\n",
       "      <td>201907</td>\n",
       "      <td>14760</td>\n",
       "    </tr>\n",
       "    <tr>\n",
       "      <th>7</th>\n",
       "      <td>201908</td>\n",
       "      <td>15978</td>\n",
       "    </tr>\n",
       "    <tr>\n",
       "      <th>8</th>\n",
       "      <td>201909</td>\n",
       "      <td>14493</td>\n",
       "    </tr>\n",
       "    <tr>\n",
       "      <th>9</th>\n",
       "      <td>201910</td>\n",
       "      <td>14448</td>\n",
       "    </tr>\n",
       "  </tbody>\n",
       "</table>\n",
       "</div>"
      ],
      "text/plain": [
       "   Дата заявки  Идентификатор заявления\n",
       "0       201901                    10316\n",
       "1       201902                    12014\n",
       "2       201903                    14254\n",
       "3       201904                    15956\n",
       "4       201905                    12684\n",
       "5       201906                    13063\n",
       "6       201907                    14760\n",
       "7       201908                    15978\n",
       "8       201909                    14493\n",
       "9       201910                    14448"
      ]
     },
     "execution_count": 134,
     "metadata": {},
     "output_type": "execute_result"
    }
   ],
   "source": [
    "df_1.head(10)"
   ]
  },
  {
   "cell_type": "code",
   "execution_count": 86,
   "id": "0baeae43",
   "metadata": {},
   "outputs": [
    {
     "data": {
      "image/png": "[encoded data removed]",
      "text/plain": [
       "<Figure size 720x504 with 1 Axes>"
      ]
     },
     "metadata": {
      "needs_background": "light"
     },
     "output_type": "display_data"
    }
   ],
   "source": [
    "plt.figure(figsize=(10,7))\n",
    "sns.barplot(x='Дата заявки', y='Идентификатор заявления', data=df_1,color='blue')\n",
    "plt.xlabel = 'Дата заявки'\n",
    "plt.ylabel = 'Количество заявок'\n",
    "\n"
   ]
  },
  {
   "cell_type": "markdown",
   "id": "8f2e99cf",
   "metadata": {},
   "source": [
    "## Вывод: Общее количество заявлений в целом не изменилось и составляет порядка 14 тыс в месяц"
   ]
  },
  {
   "cell_type": "code",
   "execution_count": 136,
   "id": "1a38ce8f",
   "metadata": {},
   "outputs": [],
   "source": [
    "# Посмотрим на общее число заявлений, число одобренных и высчитаем процент одобрения заявок на кредит\n",
    "df_3 = df.groupby(df['Дата заявки'])\\\n",
    ".aggregate({'Идентификатор заявления':'count','Флаг одобрения':'sum'}).reset_index()"
   ]
  },
  {
   "cell_type": "code",
   "execution_count": 75,
   "id": "f10e576f",
   "metadata": {},
   "outputs": [],
   "source": [
    "df_3['Процент одобрения']=df_3['Флаг одобрения']/ df_3['Идентификатор заявления']*100"
   ]
  },
  {
   "cell_type": "code",
   "execution_count": 81,
   "id": "dfaaff17",
   "metadata": {},
   "outputs": [
    {
     "data": {
      "text/html": [
       "<div>\n",
       "<style scoped>\n",
       "    .dataframe tbody tr th:only-of-type {\n",
       "        vertical-align: middle;\n",
       "    }\n",
       "\n",
       "    .dataframe tbody tr th {\n",
       "        vertical-align: top;\n",
       "    }\n",
       "\n",
       "    .dataframe thead th {\n",
       "        text-align: right;\n",
       "    }\n",
       "</style>\n",
       "<table border=\"1\" class=\"dataframe\">\n",
       "  <thead>\n",
       "    <tr style=\"text-align: right;\">\n",
       "      <th></th>\n",
       "      <th>Дата заявки</th>\n",
       "      <th>Идентификатор заявления</th>\n",
       "      <th>Флаг одобрения</th>\n",
       "      <th>Процент</th>\n",
       "      <th>Процент одобрения</th>\n",
       "    </tr>\n",
       "  </thead>\n",
       "  <tbody>\n",
       "    <tr>\n",
       "      <th>0</th>\n",
       "      <td>201901</td>\n",
       "      <td>10316</td>\n",
       "      <td>4107</td>\n",
       "      <td>39.811943</td>\n",
       "      <td>39.811943</td>\n",
       "    </tr>\n",
       "    <tr>\n",
       "      <th>1</th>\n",
       "      <td>201902</td>\n",
       "      <td>12014</td>\n",
       "      <td>4844</td>\n",
       "      <td>40.319627</td>\n",
       "      <td>40.319627</td>\n",
       "    </tr>\n",
       "    <tr>\n",
       "      <th>2</th>\n",
       "      <td>201903</td>\n",
       "      <td>14254</td>\n",
       "      <td>5800</td>\n",
       "      <td>40.690333</td>\n",
       "      <td>40.690333</td>\n",
       "    </tr>\n",
       "    <tr>\n",
       "      <th>3</th>\n",
       "      <td>201904</td>\n",
       "      <td>15956</td>\n",
       "      <td>6470</td>\n",
       "      <td>40.549010</td>\n",
       "      <td>40.549010</td>\n",
       "    </tr>\n",
       "    <tr>\n",
       "      <th>4</th>\n",
       "      <td>201905</td>\n",
       "      <td>12684</td>\n",
       "      <td>5500</td>\n",
       "      <td>43.361716</td>\n",
       "      <td>43.361716</td>\n",
       "    </tr>\n",
       "    <tr>\n",
       "      <th>5</th>\n",
       "      <td>201906</td>\n",
       "      <td>13063</td>\n",
       "      <td>4990</td>\n",
       "      <td>38.199495</td>\n",
       "      <td>38.199495</td>\n",
       "    </tr>\n",
       "    <tr>\n",
       "      <th>6</th>\n",
       "      <td>201907</td>\n",
       "      <td>14760</td>\n",
       "      <td>4873</td>\n",
       "      <td>33.014905</td>\n",
       "      <td>33.014905</td>\n",
       "    </tr>\n",
       "    <tr>\n",
       "      <th>7</th>\n",
       "      <td>201908</td>\n",
       "      <td>15978</td>\n",
       "      <td>6209</td>\n",
       "      <td>38.859682</td>\n",
       "      <td>38.859682</td>\n",
       "    </tr>\n",
       "    <tr>\n",
       "      <th>8</th>\n",
       "      <td>201909</td>\n",
       "      <td>14493</td>\n",
       "      <td>4828</td>\n",
       "      <td>33.312634</td>\n",
       "      <td>33.312634</td>\n",
       "    </tr>\n",
       "    <tr>\n",
       "      <th>9</th>\n",
       "      <td>201910</td>\n",
       "      <td>14448</td>\n",
       "      <td>4795</td>\n",
       "      <td>33.187984</td>\n",
       "      <td>33.187984</td>\n",
       "    </tr>\n",
       "    <tr>\n",
       "      <th>10</th>\n",
       "      <td>201911</td>\n",
       "      <td>13812</td>\n",
       "      <td>4582</td>\n",
       "      <td>33.174052</td>\n",
       "      <td>33.174052</td>\n",
       "    </tr>\n",
       "    <tr>\n",
       "      <th>11</th>\n",
       "      <td>201912</td>\n",
       "      <td>14405</td>\n",
       "      <td>4726</td>\n",
       "      <td>32.808053</td>\n",
       "      <td>32.808053</td>\n",
       "    </tr>\n",
       "  </tbody>\n",
       "</table>\n",
       "</div>"
      ],
      "text/plain": [
       "    Дата заявки  Идентификатор заявления  Флаг одобрения    Процент  \\\n",
       "0        201901                    10316            4107  39.811943   \n",
       "1        201902                    12014            4844  40.319627   \n",
       "2        201903                    14254            5800  40.690333   \n",
       "3        201904                    15956            6470  40.549010   \n",
       "4        201905                    12684            5500  43.361716   \n",
       "5        201906                    13063            4990  38.199495   \n",
       "6        201907                    14760            4873  33.014905   \n",
       "7        201908                    15978            6209  38.859682   \n",
       "8        201909                    14493            4828  33.312634   \n",
       "9        201910                    14448            4795  33.187984   \n",
       "10       201911                    13812            4582  33.174052   \n",
       "11       201912                    14405            4726  32.808053   \n",
       "\n",
       "    Процент одобрения  \n",
       "0           39.811943  \n",
       "1           40.319627  \n",
       "2           40.690333  \n",
       "3           40.549010  \n",
       "4           43.361716  \n",
       "5           38.199495  \n",
       "6           33.014905  \n",
       "7           38.859682  \n",
       "8           33.312634  \n",
       "9           33.187984  \n",
       "10          33.174052  \n",
       "11          32.808053  "
      ]
     },
     "execution_count": 81,
     "metadata": {},
     "output_type": "execute_result"
    }
   ],
   "source": [
    "df_3"
   ]
  },
  {
   "cell_type": "markdown",
   "id": "9ff0f13d",
   "metadata": {},
   "source": [
    "## Вывод : Процент одобрения кредита в целом снизился с 40 % в первой половине года  до 33% во второй половине года"
   ]
  },
  {
   "cell_type": "code",
   "execution_count": 137,
   "id": "08120af1",
   "metadata": {},
   "outputs": [],
   "source": [
    "# Рассмотрим распределение заявок на кредит по разным клиентам\n",
    "df_4= df.groupby(['Дата заявки', 'Тип клиента'])\\\n",
    ".agg({'Идентификатор заявления':'count'}).reset_index()"
   ]
  },
  {
   "cell_type": "code",
   "execution_count": 104,
   "id": "8def3a8b",
   "metadata": {},
   "outputs": [
    {
     "data": {
      "text/html": [
       "<div>\n",
       "<style scoped>\n",
       "    .dataframe tbody tr th:only-of-type {\n",
       "        vertical-align: middle;\n",
       "    }\n",
       "\n",
       "    .dataframe tbody tr th {\n",
       "        vertical-align: top;\n",
       "    }\n",
       "\n",
       "    .dataframe thead th {\n",
       "        text-align: right;\n",
       "    }\n",
       "</style>\n",
       "<table border=\"1\" class=\"dataframe\">\n",
       "  <thead>\n",
       "    <tr style=\"text-align: right;\">\n",
       "      <th></th>\n",
       "      <th>Дата заявки</th>\n",
       "      <th>Тип клиента</th>\n",
       "      <th>Идентификатор заявления</th>\n",
       "    </tr>\n",
       "  </thead>\n",
       "  <tbody>\n",
       "    <tr>\n",
       "      <th>0</th>\n",
       "      <td>201901</td>\n",
       "      <td>Зарплатный клиент</td>\n",
       "      <td>1748</td>\n",
       "    </tr>\n",
       "    <tr>\n",
       "      <th>1</th>\n",
       "      <td>201901</td>\n",
       "      <td>Сотрудник Банка</td>\n",
       "      <td>168</td>\n",
       "    </tr>\n",
       "    <tr>\n",
       "      <th>2</th>\n",
       "      <td>201901</td>\n",
       "      <td>Сторонний клиент</td>\n",
       "      <td>4864</td>\n",
       "    </tr>\n",
       "    <tr>\n",
       "      <th>3</th>\n",
       "      <td>201901</td>\n",
       "      <td>Существующий клиент</td>\n",
       "      <td>3536</td>\n",
       "    </tr>\n",
       "    <tr>\n",
       "      <th>4</th>\n",
       "      <td>201902</td>\n",
       "      <td>Зарплатный клиент</td>\n",
       "      <td>2012</td>\n",
       "    </tr>\n",
       "  </tbody>\n",
       "</table>\n",
       "</div>"
      ],
      "text/plain": [
       "   Дата заявки          Тип клиента  Идентификатор заявления\n",
       "0       201901    Зарплатный клиент                     1748\n",
       "1       201901      Сотрудник Банка                      168\n",
       "2       201901     Сторонний клиент                     4864\n",
       "3       201901  Существующий клиент                     3536\n",
       "4       201902    Зарплатный клиент                     2012"
      ]
     },
     "execution_count": 104,
     "metadata": {},
     "output_type": "execute_result"
    }
   ],
   "source": [
    "df_4.head()"
   ]
  },
  {
   "cell_type": "code",
   "execution_count": 110,
   "id": "8a7924d7",
   "metadata": {},
   "outputs": [
    {
     "data": {
      "image/png": "[encoded data removed]",
      "text/plain": [
       "<Figure size 1080x720 with 1 Axes>"
      ]
     },
     "metadata": {
      "needs_background": "light"
     },
     "output_type": "display_data"
    }
   ],
   "source": [
    "plt.figure(figsize=(15,10))\n",
    "sns.barplot(x='Дата заявки', y='Идентификатор заявления', data= df_4, hue='Тип клиента')\n",
    "plt.ylabel = 'Количество завялений'\n",
    "plt.show()\n"
   ]
  },
  {
   "cell_type": "markdown",
   "id": "7d233ac7",
   "metadata": {},
   "source": [
    "## Вывод :В целом общеее количество заявлений по типам клиентов не изменилось"
   ]
  },
  {
   "cell_type": "code",
   "execution_count": 138,
   "id": "87ea15db",
   "metadata": {},
   "outputs": [],
   "source": [
    "# Рассмотрим распределение заявок на кредит по разным программам кредитования\n",
    "df_5= df.groupby(['Дата заявки', 'Программа кредитования'])\\\n",
    ".agg({'Идентификатор заявления':'count'}).reset_index()"
   ]
  },
  {
   "cell_type": "code",
   "execution_count": 113,
   "id": "14500c0f",
   "metadata": {},
   "outputs": [
    {
     "data": {
      "text/html": [
       "<div>\n",
       "<style scoped>\n",
       "    .dataframe tbody tr th:only-of-type {\n",
       "        vertical-align: middle;\n",
       "    }\n",
       "\n",
       "    .dataframe tbody tr th {\n",
       "        vertical-align: top;\n",
       "    }\n",
       "\n",
       "    .dataframe thead th {\n",
       "        text-align: right;\n",
       "    }\n",
       "</style>\n",
       "<table border=\"1\" class=\"dataframe\">\n",
       "  <thead>\n",
       "    <tr style=\"text-align: right;\">\n",
       "      <th></th>\n",
       "      <th>Дата заявки</th>\n",
       "      <th>Программа кредитования</th>\n",
       "      <th>Идентификатор заявления</th>\n",
       "    </tr>\n",
       "  </thead>\n",
       "  <tbody>\n",
       "    <tr>\n",
       "      <th>0</th>\n",
       "      <td>201901</td>\n",
       "      <td>Standard</td>\n",
       "      <td>3666</td>\n",
       "    </tr>\n",
       "    <tr>\n",
       "      <th>1</th>\n",
       "      <td>201901</td>\n",
       "      <td>X-sell</td>\n",
       "      <td>6650</td>\n",
       "    </tr>\n",
       "    <tr>\n",
       "      <th>2</th>\n",
       "      <td>201902</td>\n",
       "      <td>Standard</td>\n",
       "      <td>4226</td>\n",
       "    </tr>\n",
       "    <tr>\n",
       "      <th>3</th>\n",
       "      <td>201902</td>\n",
       "      <td>X-sell</td>\n",
       "      <td>7788</td>\n",
       "    </tr>\n",
       "    <tr>\n",
       "      <th>4</th>\n",
       "      <td>201903</td>\n",
       "      <td>Standard</td>\n",
       "      <td>4755</td>\n",
       "    </tr>\n",
       "  </tbody>\n",
       "</table>\n",
       "</div>"
      ],
      "text/plain": [
       "   Дата заявки Программа кредитования  Идентификатор заявления\n",
       "0       201901               Standard                     3666\n",
       "1       201901                 X-sell                     6650\n",
       "2       201902               Standard                     4226\n",
       "3       201902                 X-sell                     7788\n",
       "4       201903               Standard                     4755"
      ]
     },
     "execution_count": 113,
     "metadata": {},
     "output_type": "execute_result"
    }
   ],
   "source": [
    "df_5.head()"
   ]
  },
  {
   "cell_type": "code",
   "execution_count": 114,
   "id": "d2215f87",
   "metadata": {},
   "outputs": [
    {
     "data": {
      "image/png": "[encoded data removed]",
      "text/plain": [
       "<Figure size 1080x720 with 1 Axes>"
      ]
     },
     "metadata": {
      "needs_background": "light"
     },
     "output_type": "display_data"
    }
   ],
   "source": [
    "plt.figure(figsize=(15,10))\n",
    "sns.barplot(x='Дата заявки', y='Идентификатор заявления', data= df_5, hue='Программа кредитования')\n",
    "plt.ylabel = 'Количество завялений'\n",
    "plt.show()"
   ]
  },
  {
   "cell_type": "markdown",
   "id": "4ed53317",
   "metadata": {},
   "source": [
    "### Вывод: В целом общеее количество заявлений по разным программам кредитования не изменилось"
   ]
  },
  {
   "cell_type": "code",
   "execution_count": 118,
   "id": "fe1be3ac",
   "metadata": {},
   "outputs": [],
   "source": [
    "# Рассмотрим  распределение процента одобрения кредита по программа кредитования\n",
    "df_6 = df.groupby(['Дата заявки', 'Программа кредитования'])\\\n",
    ".aggregate({'Идентификатор заявления':'count','Флаг одобрения':'sum'}).reset_index()"
   ]
  },
  {
   "cell_type": "code",
   "execution_count": 139,
   "id": "e73e1d8c",
   "metadata": {},
   "outputs": [],
   "source": [
    "df_6['Процент одобрения'] = df_6['Флаг одобрения']/df_6['Идентификатор заявления']* 100"
   ]
  },
  {
   "cell_type": "code",
   "execution_count": 140,
   "id": "b93c903c",
   "metadata": {},
   "outputs": [
    {
     "data": {
      "text/html": [
       "<div>\n",
       "<style scoped>\n",
       "    .dataframe tbody tr th:only-of-type {\n",
       "        vertical-align: middle;\n",
       "    }\n",
       "\n",
       "    .dataframe tbody tr th {\n",
       "        vertical-align: top;\n",
       "    }\n",
       "\n",
       "    .dataframe thead th {\n",
       "        text-align: right;\n",
       "    }\n",
       "</style>\n",
       "<table border=\"1\" class=\"dataframe\">\n",
       "  <thead>\n",
       "    <tr style=\"text-align: right;\">\n",
       "      <th></th>\n",
       "      <th>Дата заявки</th>\n",
       "      <th>Программа кредитования</th>\n",
       "      <th>Идентификатор заявления</th>\n",
       "      <th>Флаг одобрения</th>\n",
       "      <th>Процент одобрения</th>\n",
       "    </tr>\n",
       "  </thead>\n",
       "  <tbody>\n",
       "    <tr>\n",
       "      <th>0</th>\n",
       "      <td>201901</td>\n",
       "      <td>Standard</td>\n",
       "      <td>3666</td>\n",
       "      <td>625</td>\n",
       "      <td>17.048554</td>\n",
       "    </tr>\n",
       "    <tr>\n",
       "      <th>1</th>\n",
       "      <td>201901</td>\n",
       "      <td>X-sell</td>\n",
       "      <td>6650</td>\n",
       "      <td>3482</td>\n",
       "      <td>52.360902</td>\n",
       "    </tr>\n",
       "    <tr>\n",
       "      <th>2</th>\n",
       "      <td>201902</td>\n",
       "      <td>Standard</td>\n",
       "      <td>4226</td>\n",
       "      <td>639</td>\n",
       "      <td>15.120681</td>\n",
       "    </tr>\n",
       "    <tr>\n",
       "      <th>3</th>\n",
       "      <td>201902</td>\n",
       "      <td>X-sell</td>\n",
       "      <td>7788</td>\n",
       "      <td>4205</td>\n",
       "      <td>53.993323</td>\n",
       "    </tr>\n",
       "    <tr>\n",
       "      <th>4</th>\n",
       "      <td>201903</td>\n",
       "      <td>Standard</td>\n",
       "      <td>4755</td>\n",
       "      <td>738</td>\n",
       "      <td>15.520505</td>\n",
       "    </tr>\n",
       "    <tr>\n",
       "      <th>5</th>\n",
       "      <td>201903</td>\n",
       "      <td>X-sell</td>\n",
       "      <td>9499</td>\n",
       "      <td>5062</td>\n",
       "      <td>53.289820</td>\n",
       "    </tr>\n",
       "    <tr>\n",
       "      <th>6</th>\n",
       "      <td>201904</td>\n",
       "      <td>Standard</td>\n",
       "      <td>5068</td>\n",
       "      <td>868</td>\n",
       "      <td>17.127072</td>\n",
       "    </tr>\n",
       "    <tr>\n",
       "      <th>7</th>\n",
       "      <td>201904</td>\n",
       "      <td>X-sell</td>\n",
       "      <td>10888</td>\n",
       "      <td>5602</td>\n",
       "      <td>51.451139</td>\n",
       "    </tr>\n",
       "    <tr>\n",
       "      <th>8</th>\n",
       "      <td>201905</td>\n",
       "      <td>Standard</td>\n",
       "      <td>4248</td>\n",
       "      <td>876</td>\n",
       "      <td>20.621469</td>\n",
       "    </tr>\n",
       "    <tr>\n",
       "      <th>9</th>\n",
       "      <td>201905</td>\n",
       "      <td>X-sell</td>\n",
       "      <td>8436</td>\n",
       "      <td>4624</td>\n",
       "      <td>54.812707</td>\n",
       "    </tr>\n",
       "  </tbody>\n",
       "</table>\n",
       "</div>"
      ],
      "text/plain": [
       "   Дата заявки Программа кредитования  Идентификатор заявления  \\\n",
       "0       201901               Standard                     3666   \n",
       "1       201901                 X-sell                     6650   \n",
       "2       201902               Standard                     4226   \n",
       "3       201902                 X-sell                     7788   \n",
       "4       201903               Standard                     4755   \n",
       "5       201903                 X-sell                     9499   \n",
       "6       201904               Standard                     5068   \n",
       "7       201904                 X-sell                    10888   \n",
       "8       201905               Standard                     4248   \n",
       "9       201905                 X-sell                     8436   \n",
       "\n",
       "   Флаг одобрения  Процент одобрения  \n",
       "0             625          17.048554  \n",
       "1            3482          52.360902  \n",
       "2             639          15.120681  \n",
       "3            4205          53.993323  \n",
       "4             738          15.520505  \n",
       "5            5062          53.289820  \n",
       "6             868          17.127072  \n",
       "7            5602          51.451139  \n",
       "8             876          20.621469  \n",
       "9            4624          54.812707  "
      ]
     },
     "execution_count": 140,
     "metadata": {},
     "output_type": "execute_result"
    }
   ],
   "source": [
    "df_6.head(10)"
   ]
  },
  {
   "cell_type": "code",
   "execution_count": 144,
   "id": "14c9b45b",
   "metadata": {},
   "outputs": [
    {
     "data": {
      "image/png": "[encoded data removed]",
      "text/plain": [
       "<Figure size 720x360 with 1 Axes>"
      ]
     },
     "metadata": {
      "needs_background": "light"
     },
     "output_type": "display_data"
    }
   ],
   "source": [
    "plt.figure(figsize=(10,5))\n",
    "sns.barplot(x='Дата заявки',y='Процент одобрения',data=df_6, hue='Программа кредитования')\n",
    "plt.show()"
   ]
  },
  {
   "cell_type": "markdown",
   "id": "b24d60e9",
   "metadata": {},
   "source": [
    "## Вывод: Процент одобрения заявок по программе X-sell снизился существенно  с 60 до 40 % "
   ]
  },
  {
   "cell_type": "code",
   "execution_count": 145,
   "id": "8c856bdf",
   "metadata": {},
   "outputs": [],
   "source": [
    "# Рассмотрим как изменился % одобрения по существующим клиентам по разным программам кредитования"
   ]
  },
  {
   "cell_type": "code",
   "execution_count": 164,
   "id": "02bd6344",
   "metadata": {},
   "outputs": [],
   "source": [
    "df_7 = df.groupby(['Дата заявки', 'Тип клиента','Программа кредитования'])\\\n",
    ".aggregate({'Идентификатор заявления':'count','Флаг одобрения':'sum'}).reset_index()"
   ]
  },
  {
   "cell_type": "code",
   "execution_count": 165,
   "id": "47998b37",
   "metadata": {},
   "outputs": [],
   "source": [
    "df_7['Процент одобрения']=df_7['Флаг одобрения']/df_7['Идентификатор заявления']* 100"
   ]
  },
  {
   "cell_type": "code",
   "execution_count": 166,
   "id": "b6d7f6bd",
   "metadata": {},
   "outputs": [],
   "source": [
    "df_klient = df_7[df_7['Тип клиента']=='Существующий клиент']"
   ]
  },
  {
   "cell_type": "code",
   "execution_count": 169,
   "id": "d8512203",
   "metadata": {},
   "outputs": [
    {
     "data": {
      "text/html": [
       "<div>\n",
       "<style scoped>\n",
       "    .dataframe tbody tr th:only-of-type {\n",
       "        vertical-align: middle;\n",
       "    }\n",
       "\n",
       "    .dataframe tbody tr th {\n",
       "        vertical-align: top;\n",
       "    }\n",
       "\n",
       "    .dataframe thead th {\n",
       "        text-align: right;\n",
       "    }\n",
       "</style>\n",
       "<table border=\"1\" class=\"dataframe\">\n",
       "  <thead>\n",
       "    <tr style=\"text-align: right;\">\n",
       "      <th></th>\n",
       "      <th>Дата заявки</th>\n",
       "      <th>Тип клиента</th>\n",
       "      <th>Программа кредитования</th>\n",
       "      <th>Идентификатор заявления</th>\n",
       "      <th>Флаг одобрения</th>\n",
       "      <th>Процент одобрения</th>\n",
       "    </tr>\n",
       "  </thead>\n",
       "  <tbody>\n",
       "    <tr>\n",
       "      <th>5</th>\n",
       "      <td>201901</td>\n",
       "      <td>Существующий клиент</td>\n",
       "      <td>Standard</td>\n",
       "      <td>370</td>\n",
       "      <td>42</td>\n",
       "      <td>11.351351</td>\n",
       "    </tr>\n",
       "    <tr>\n",
       "      <th>6</th>\n",
       "      <td>201901</td>\n",
       "      <td>Существующий клиент</td>\n",
       "      <td>X-sell</td>\n",
       "      <td>3166</td>\n",
       "      <td>2008</td>\n",
       "      <td>63.423879</td>\n",
       "    </tr>\n",
       "    <tr>\n",
       "      <th>12</th>\n",
       "      <td>201902</td>\n",
       "      <td>Существующий клиент</td>\n",
       "      <td>Standard</td>\n",
       "      <td>431</td>\n",
       "      <td>72</td>\n",
       "      <td>16.705336</td>\n",
       "    </tr>\n",
       "    <tr>\n",
       "      <th>13</th>\n",
       "      <td>201902</td>\n",
       "      <td>Существующий клиент</td>\n",
       "      <td>X-sell</td>\n",
       "      <td>3639</td>\n",
       "      <td>2493</td>\n",
       "      <td>68.507832</td>\n",
       "    </tr>\n",
       "    <tr>\n",
       "      <th>19</th>\n",
       "      <td>201903</td>\n",
       "      <td>Существующий клиент</td>\n",
       "      <td>Standard</td>\n",
       "      <td>438</td>\n",
       "      <td>69</td>\n",
       "      <td>15.753425</td>\n",
       "    </tr>\n",
       "  </tbody>\n",
       "</table>\n",
       "</div>"
      ],
      "text/plain": [
       "    Дата заявки          Тип клиента Программа кредитования  \\\n",
       "5        201901  Существующий клиент               Standard   \n",
       "6        201901  Существующий клиент                 X-sell   \n",
       "12       201902  Существующий клиент               Standard   \n",
       "13       201902  Существующий клиент                 X-sell   \n",
       "19       201903  Существующий клиент               Standard   \n",
       "\n",
       "    Идентификатор заявления  Флаг одобрения  Процент одобрения  \n",
       "5                       370              42          11.351351  \n",
       "6                      3166            2008          63.423879  \n",
       "12                      431              72          16.705336  \n",
       "13                     3639            2493          68.507832  \n",
       "19                      438              69          15.753425  "
      ]
     },
     "execution_count": 169,
     "metadata": {},
     "output_type": "execute_result"
    }
   ],
   "source": [
    "df_klient.head()"
   ]
  },
  {
   "cell_type": "code",
   "execution_count": 174,
   "id": "0176be0d",
   "metadata": {},
   "outputs": [
    {
     "data": {
      "image/png": "[encoded data removed]",
      "text/plain": [
       "<Figure size 720x360 with 1 Axes>"
      ]
     },
     "metadata": {
      "needs_background": "light"
     },
     "output_type": "display_data"
    }
   ],
   "source": [
    "plt.figure(figsize=(10,5))\n",
    "sns.barplot(x='Дата заявки',y='Идентификатор заявления',data=df_klient, hue='Программа кредитования')\n",
    "plt.show()"
   ]
  },
  {
   "cell_type": "code",
   "execution_count": 168,
   "id": "6394b096",
   "metadata": {},
   "outputs": [
    {
     "data": {
      "image/png": "[encoded data removed]",
      "text/plain": [
       "<Figure size 720x360 with 1 Axes>"
      ]
     },
     "metadata": {
      "needs_background": "light"
     },
     "output_type": "display_data"
    }
   ],
   "source": [
    "plt.figure(figsize=(10,5))\n",
    "sns.barplot(x='Дата заявки',y='Процент одобрения',data=df_klient, hue='Программа кредитования')\n",
    "plt.show()"
   ]
  },
  {
   "cell_type": "markdown",
   "id": "1e5d53bc",
   "metadata": {},
   "source": [
    "## Вывод: По прогамме кредитования Standart по существующим клиентам банка % одобрения в целом не изменился, однако наблюдается существенное изменение с 65% до 45% по программе кредитования X-sell"
   ]
  },
  {
   "cell_type": "code",
   "execution_count": 170,
   "id": "7b1f3d6c",
   "metadata": {},
   "outputs": [],
   "source": [
    "# Рассмотрим как изменился % одобрения посторонним клиентам по разным программам кредитования"
   ]
  },
  {
   "cell_type": "code",
   "execution_count": 171,
   "id": "356e030d",
   "metadata": {},
   "outputs": [],
   "source": [
    "df_not_klient = df_7[df_7['Тип клиента']=='Сторонний клиент']"
   ]
  },
  {
   "cell_type": "code",
   "execution_count": 172,
   "id": "e3cbcd26",
   "metadata": {},
   "outputs": [
    {
     "data": {
      "text/html": [
       "<div>\n",
       "<style scoped>\n",
       "    .dataframe tbody tr th:only-of-type {\n",
       "        vertical-align: middle;\n",
       "    }\n",
       "\n",
       "    .dataframe tbody tr th {\n",
       "        vertical-align: top;\n",
       "    }\n",
       "\n",
       "    .dataframe thead th {\n",
       "        text-align: right;\n",
       "    }\n",
       "</style>\n",
       "<table border=\"1\" class=\"dataframe\">\n",
       "  <thead>\n",
       "    <tr style=\"text-align: right;\">\n",
       "      <th></th>\n",
       "      <th>Дата заявки</th>\n",
       "      <th>Тип клиента</th>\n",
       "      <th>Программа кредитования</th>\n",
       "      <th>Идентификатор заявления</th>\n",
       "      <th>Флаг одобрения</th>\n",
       "      <th>Процент одобрения</th>\n",
       "    </tr>\n",
       "  </thead>\n",
       "  <tbody>\n",
       "    <tr>\n",
       "      <th>3</th>\n",
       "      <td>201901</td>\n",
       "      <td>Сторонний клиент</td>\n",
       "      <td>Standard</td>\n",
       "      <td>2395</td>\n",
       "      <td>125</td>\n",
       "      <td>5.219207</td>\n",
       "    </tr>\n",
       "    <tr>\n",
       "      <th>4</th>\n",
       "      <td>201901</td>\n",
       "      <td>Сторонний клиент</td>\n",
       "      <td>X-sell</td>\n",
       "      <td>2469</td>\n",
       "      <td>995</td>\n",
       "      <td>40.299716</td>\n",
       "    </tr>\n",
       "    <tr>\n",
       "      <th>10</th>\n",
       "      <td>201902</td>\n",
       "      <td>Сторонний клиент</td>\n",
       "      <td>Standard</td>\n",
       "      <td>2808</td>\n",
       "      <td>146</td>\n",
       "      <td>5.199430</td>\n",
       "    </tr>\n",
       "    <tr>\n",
       "      <th>11</th>\n",
       "      <td>201902</td>\n",
       "      <td>Сторонний клиент</td>\n",
       "      <td>X-sell</td>\n",
       "      <td>2943</td>\n",
       "      <td>1173</td>\n",
       "      <td>39.857288</td>\n",
       "    </tr>\n",
       "    <tr>\n",
       "      <th>17</th>\n",
       "      <td>201903</td>\n",
       "      <td>Сторонний клиент</td>\n",
       "      <td>Standard</td>\n",
       "      <td>3250</td>\n",
       "      <td>183</td>\n",
       "      <td>5.630769</td>\n",
       "    </tr>\n",
       "  </tbody>\n",
       "</table>\n",
       "</div>"
      ],
      "text/plain": [
       "    Дата заявки       Тип клиента Программа кредитования  \\\n",
       "3        201901  Сторонний клиент               Standard   \n",
       "4        201901  Сторонний клиент                 X-sell   \n",
       "10       201902  Сторонний клиент               Standard   \n",
       "11       201902  Сторонний клиент                 X-sell   \n",
       "17       201903  Сторонний клиент               Standard   \n",
       "\n",
       "    Идентификатор заявления  Флаг одобрения  Процент одобрения  \n",
       "3                      2395             125           5.219207  \n",
       "4                      2469             995          40.299716  \n",
       "10                     2808             146           5.199430  \n",
       "11                     2943            1173          39.857288  \n",
       "17                     3250             183           5.630769  "
      ]
     },
     "execution_count": 172,
     "metadata": {},
     "output_type": "execute_result"
    }
   ],
   "source": [
    "df_not_klient.head()"
   ]
  },
  {
   "cell_type": "code",
   "execution_count": 175,
   "id": "bd62f437",
   "metadata": {},
   "outputs": [
    {
     "data": {
      "image/png": "[encoded data removed]",
      "text/plain": [
       "<Figure size 720x360 with 1 Axes>"
      ]
     },
     "metadata": {
      "needs_background": "light"
     },
     "output_type": "display_data"
    }
   ],
   "source": [
    "plt.figure(figsize=(10,5))\n",
    "sns.barplot(x='Дата заявки',y='Идентификатор заявления',data=df_not_klient, hue='Программа кредитования')\n",
    "plt.show()"
   ]
  },
  {
   "cell_type": "code",
   "execution_count": 173,
   "id": "3800697c",
   "metadata": {},
   "outputs": [
    {
     "data": {
      "image/png": "[encoded data removed]",
      "text/plain": [
       "<Figure size 720x360 with 1 Axes>"
      ]
     },
     "metadata": {
      "needs_background": "light"
     },
     "output_type": "display_data"
    }
   ],
   "source": [
    "plt.figure(figsize=(10,5))\n",
    "sns.barplot(x='Дата заявки',y='Процент одобрения',data=df_not_klient, hue='Программа кредитования')\n",
    "plt.show()"
   ]
  },
  {
   "cell_type": "markdown",
   "id": "878b5a7f",
   "metadata": {},
   "source": [
    "## Вывод: Уровень одобрения сторонних клиентов существенно снизился как по программе Standard (с 5% до 0%), так и по программе X-sell (с 40% до 23%)."
   ]
  },
  {
   "cell_type": "code",
   "execution_count": null,
   "id": "5cb007da",
   "metadata": {},
   "outputs": [],
   "source": []
  }
 ],
 "metadata": {
  "kernelspec": {
   "display_name": "Python 3 (ipykernel)",
   "language": "python",
   "name": "python3"
  },
  "language_info": {
   "codemirror_mode": {
    "name": "ipython",
    "version": 3
   },
   "file_extension": ".py",
   "mimetype": "text/x-python",
   "name": "python",
   "nbconvert_exporter": "python",
   "pygments_lexer": "ipython3",
   "version": "3.9.12"
  },
  "varInspector": {
   "cols": {
    "lenName": 16,
    "lenType": 16,
    "lenVar": 40
   },
   "kernels_config": {
    "python": {
     "delete_cmd_postfix": "",
     "delete_cmd_prefix": "del ",
     "library": "var_list.py",
     "varRefreshCmd": "print(var_dic_list())"
    },
    "r": {
     "delete_cmd_postfix": ") ",
     "delete_cmd_prefix": "rm(",
     "library": "var_list.r",
     "varRefreshCmd": "cat(var_dic_list()) "
    }
   },
   "types_to_exclude": [
    "module",
    "function",
    "builtin_function_or_method",
    "instance",
    "_Feature"
   ],
   "window_display": false
  }
 },
 "nbformat": 4,
 "nbformat_minor": 5
}
