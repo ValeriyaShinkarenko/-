{
 "cells": [
  {
   "cell_type": "markdown",
   "id": "c0a2509d",
   "metadata": {},
   "source": [
    "## ЗАДАНИЕ 1 ##"
   ]
  },
  {
   "cell_type": "markdown",
   "id": "04c0d229",
   "metadata": {},
   "source": [
    "Выполнение бюджета по выдачам необеспеченных потребительских кредитов4 немного отстает от плана. Нам нужно понять, что является причиной отставания, чтобы оперативно исправить ситуацию.\n",
    "В связи с этим тебе необходимо:\n",
    "\n",
    "● Провести анализ количества и уровня одобрения по поступающим заявлениям на кредит.\n",
    "\n",
    "● Определить, какой из этих показателей и в каких сегментах (по типу клиента и программе кредитования) мог привести к снижению объемов выдач.\n",
    "\n",
    "● Дать комментарии к полученным результатам.\n",
    "\n",
    "При решении задачи рекомендую следовать по алгоритму:\n",
    "1. Начни с анализа данных и не забудь посмотреть на динамику их изменения.\n",
    "Обычно мы в подразделении используем сводные таблицы (Pivot) в Microsoft Excel, но при желании можешь использовать и другие программы, например R / Python. В этом случае не забудь приложить код.\n",
    "2. Построй графики.\n"
   ]
  },
  {
   "cell_type": "code",
   "execution_count": 1,
   "id": "9da695ce",
   "metadata": {},
   "outputs": [],
   "source": [
    "## импортируем необходимые библиотеки для анализа данных"
   ]
  },
  {
   "cell_type": "code",
   "execution_count": 2,
   "id": "e90cad5e",
   "metadata": {},
   "outputs": [],
   "source": [
    "import pandas as pd \n",
    "import matplotlib.pyplot as plt\n",
    "import seaborn as sns"
   ]
  },
  {
   "cell_type": "code",
   "execution_count": 3,
   "id": "91ae570b",
   "metadata": {},
   "outputs": [],
   "source": [
    "## загружаем данные для анализа"
   ]
  },
  {
   "cell_type": "code",
   "execution_count": 4,
   "id": "571a37ce",
   "metadata": {},
   "outputs": [],
   "source": [
    "df = pd.read_excel('Заявки.xlsx')"
   ]
  },
  {
   "cell_type": "code",
   "execution_count": 5,
   "id": "784d1ecf",
   "metadata": {},
   "outputs": [],
   "source": [
    "## Просмотр данных "
   ]
  },
  {
   "cell_type": "code",
   "execution_count": 6,
   "id": "bcff3821",
   "metadata": {},
   "outputs": [
    {
     "data": {
      "text/html": [
       "<div>\n",
       "<style scoped>\n",
       "    .dataframe tbody tr th:only-of-type {\n",
       "        vertical-align: middle;\n",
       "    }\n",
       "\n",
       "    .dataframe tbody tr th {\n",
       "        vertical-align: top;\n",
       "    }\n",
       "\n",
       "    .dataframe thead th {\n",
       "        text-align: right;\n",
       "    }\n",
       "</style>\n",
       "<table border=\"1\" class=\"dataframe\">\n",
       "  <thead>\n",
       "    <tr style=\"text-align: right;\">\n",
       "      <th></th>\n",
       "      <th>Идентификатор заявления</th>\n",
       "      <th>Программа кредитования</th>\n",
       "      <th>Тип клиента</th>\n",
       "      <th>Дата заявки</th>\n",
       "      <th>Флаг одобрения</th>\n",
       "    </tr>\n",
       "  </thead>\n",
       "  <tbody>\n",
       "    <tr>\n",
       "      <th>0</th>\n",
       "      <td>X-6BX3JFA</td>\n",
       "      <td>Standard</td>\n",
       "      <td>Существующий клиент</td>\n",
       "      <td>201901</td>\n",
       "      <td>0</td>\n",
       "    </tr>\n",
       "    <tr>\n",
       "      <th>1</th>\n",
       "      <td>X-6BJQ0PR</td>\n",
       "      <td>Standard</td>\n",
       "      <td>Существующий клиент</td>\n",
       "      <td>201901</td>\n",
       "      <td>0</td>\n",
       "    </tr>\n",
       "    <tr>\n",
       "      <th>2</th>\n",
       "      <td>X-6C63S2W</td>\n",
       "      <td>Standard</td>\n",
       "      <td>Существующий клиент</td>\n",
       "      <td>201901</td>\n",
       "      <td>0</td>\n",
       "    </tr>\n",
       "    <tr>\n",
       "      <th>3</th>\n",
       "      <td>X-6C6LLYC</td>\n",
       "      <td>Standard</td>\n",
       "      <td>Существующий клиент</td>\n",
       "      <td>201901</td>\n",
       "      <td>0</td>\n",
       "    </tr>\n",
       "    <tr>\n",
       "      <th>4</th>\n",
       "      <td>X-6CDURAK</td>\n",
       "      <td>Standard</td>\n",
       "      <td>Существующий клиент</td>\n",
       "      <td>201901</td>\n",
       "      <td>0</td>\n",
       "    </tr>\n",
       "  </tbody>\n",
       "</table>\n",
       "</div>"
      ],
      "text/plain": [
       "  Идентификатор заявления Программа кредитования          Тип клиента  \\\n",
       "0               X-6BX3JFA               Standard  Существующий клиент   \n",
       "1               X-6BJQ0PR               Standard  Существующий клиент   \n",
       "2               X-6C63S2W               Standard  Существующий клиент   \n",
       "3               X-6C6LLYC               Standard  Существующий клиент   \n",
       "4               X-6CDURAK               Standard  Существующий клиент   \n",
       "\n",
       "   Дата заявки  Флаг одобрения  \n",
       "0       201901               0  \n",
       "1       201901               0  \n",
       "2       201901               0  \n",
       "3       201901               0  \n",
       "4       201901               0  "
      ]
     },
     "execution_count": 6,
     "metadata": {},
     "output_type": "execute_result"
    }
   ],
   "source": [
    "df.head()"
   ]
  },
  {
   "cell_type": "code",
   "execution_count": null,
   "id": "abee86ec",
   "metadata": {},
   "outputs": [],
   "source": []
  },
  {
   "cell_type": "code",
   "execution_count": 7,
   "id": "25a18058",
   "metadata": {},
   "outputs": [
    {
     "name": "stdout",
     "output_type": "stream",
     "text": [
      "<class 'pandas.core.frame.DataFrame'>\n",
      "RangeIndex: 166183 entries, 0 to 166182\n",
      "Data columns (total 5 columns):\n",
      " #   Column                   Non-Null Count   Dtype \n",
      "---  ------                   --------------   ----- \n",
      " 0   Идентификатор заявления  166183 non-null  object\n",
      " 1   Программа кредитования   166183 non-null  object\n",
      " 2   Тип клиента              166183 non-null  object\n",
      " 3   Дата заявки              166183 non-null  int64 \n",
      " 4   Флаг одобрения           166183 non-null  int64 \n",
      "dtypes: int64(2), object(3)\n",
      "memory usage: 6.3+ MB\n"
     ]
    }
   ],
   "source": [
    "df.info()\n",
    " ## Общая информация о данных"
   ]
  },
  {
   "cell_type": "code",
   "execution_count": 8,
   "id": "d5ea8716",
   "metadata": {},
   "outputs": [
    {
     "data": {
      "text/plain": [
       "(166183, 5)"
      ]
     },
     "execution_count": 8,
     "metadata": {},
     "output_type": "execute_result"
    }
   ],
   "source": [
    "df.shape\n",
    "## Размерность данных. В нашем файле 5 столбцов и 166183 строчки."
   ]
  },
  {
   "cell_type": "code",
   "execution_count": 9,
   "id": "582f9b0d",
   "metadata": {},
   "outputs": [
    {
     "data": {
      "text/plain": [
       "array(['Standard', 'X-sell'], dtype=object)"
      ]
     },
     "execution_count": 9,
     "metadata": {},
     "output_type": "execute_result"
    }
   ],
   "source": [
    "## Уникальные программы кредитования. В нашем случае будут анализироваться только 2 кредитные программы.\n",
    "df['Программа кредитования'].unique()\n"
   ]
  },
  {
   "cell_type": "code",
   "execution_count": 12,
   "id": "554a3f4d",
   "metadata": {},
   "outputs": [
    {
     "data": {
      "text/plain": [
       "X-sell      114603\n",
       "Standard     51580\n",
       "Name: Программа кредитования, dtype: int64"
      ]
     },
     "execution_count": 12,
     "metadata": {},
     "output_type": "execute_result"
    }
   ],
   "source": [
    "df['Программа кредитования'].value_counts()"
   ]
  },
  {
   "cell_type": "code",
   "execution_count": 38,
   "id": "8142ac93",
   "metadata": {},
   "outputs": [
    {
     "data": {
      "image/png": "[encoded data removed]",
      "text/plain": [
       "<Figure size 432x288 with 1 Axes>"
      ]
     },
     "metadata": {
      "needs_background": "light"
     },
     "output_type": "display_data"
    }
   ],
   "source": [
    "sns.countplot(x = df['Программа кредитования'])\n",
    "plt.xlabel = 'Программа креди тования'\n",
    "plt.ylabel = 'Количество заемщиков'"
   ]
  },
  {
   "cell_type": "code",
   "execution_count": 10,
   "id": "71aececa",
   "metadata": {},
   "outputs": [
    {
     "data": {
      "text/plain": [
       "array(['Существующий клиент', 'Зарплатный клиент', 'Сотрудник Банка',\n",
       "       'Сторонний клиент'], dtype=object)"
      ]
     },
     "execution_count": 10,
     "metadata": {},
     "output_type": "execute_result"
    }
   ],
   "source": [
    "## Посмотрим какие типы клиентов обслуживает банк\n",
    "df['Тип клиента'].unique()"
   ]
  },
  {
   "cell_type": "code",
   "execution_count": 13,
   "id": "384dc6da",
   "metadata": {},
   "outputs": [
    {
     "data": {
      "text/plain": [
       "Сторонний клиент       69475\n",
       "Существующий клиент    65414\n",
       "Зарплатный клиент      28296\n",
       "Сотрудник Банка         2998\n",
       "Name: Тип клиента, dtype: int64"
      ]
     },
     "execution_count": 13,
     "metadata": {},
     "output_type": "execute_result"
    }
   ],
   "source": [
    "df['Тип клиента'].value_counts()"
   ]
  },
  {
   "cell_type": "code",
   "execution_count": 11,
   "id": "16c2f2d1",
   "metadata": {},
   "outputs": [],
   "source": [
    "## В нашем случае есть 4 группы клиентов банка"
   ]
  },
  {
   "cell_type": "code",
   "execution_count": 41,
   "id": "421f0bcd",
   "metadata": {},
   "outputs": [
    {
     "data": {
      "text/plain": [
       "0    104459\n",
       "1     61724\n",
       "Name: Флаг одобрения, dtype: int64"
      ]
     },
     "execution_count": 41,
     "metadata": {},
     "output_type": "execute_result"
    }
   ],
   "source": [
    "## Посмотрим на количество одобренных и неодобренных заявок на кредит\n",
    "df['Флаг одобрения'].value_counts()\n"
   ]
  },
  {
   "cell_type": "code",
   "execution_count": 53,
   "id": "cd2ce780",
   "metadata": {},
   "outputs": [
    {
     "data": {
      "text/plain": [
       "<AxesSubplot:xlabel='Программа кредитования', ylabel='count'>"
      ]
     },
     "execution_count": 53,
     "metadata": {},
     "output_type": "execute_result"
    },
    {
     "data": {
      "image/png": "[encoded data removed]",
      "text/plain": [
       "<Figure size 720x360 with 1 Axes>"
      ]
     },
     "metadata": {
      "needs_background": "light"
     },
     "output_type": "display_data"
    }
   ],
   "source": [
    "plt.figure(figsize=(10,5))\n",
    "sns.countplot(x='Программа кредитования', hue='Флаг одобрения', data= df)\n",
    "\n"
   ]
  },
  {
   "cell_type": "code",
   "execution_count": 54,
   "id": "2799d984",
   "metadata": {},
   "outputs": [
    {
     "data": {
      "text/plain": [
       "<AxesSubplot:xlabel='Тип клиента', ylabel='count'>"
      ]
     },
     "execution_count": 54,
     "metadata": {},
     "output_type": "execute_result"
    },
    {
     "data": {
      "image/png": "[encoded data removed]",
      "text/plain": [
       "<Figure size 720x360 with 1 Axes>"
      ]
     },
     "metadata": {
      "needs_background": "light"
     },
     "output_type": "display_data"
    }
   ],
   "source": [
    "plt.figure(figsize=(10,5))\n",
    "sns.countplot(x='Тип клиента', hue='Флаг одобрения', data= df)"
   ]
  },
  {
   "cell_type": "code",
   "execution_count": 55,
   "id": "9504e15f",
   "metadata": {},
   "outputs": [
    {
     "data": {
      "text/plain": [
       "<AxesSubplot:xlabel='Тип клиента', ylabel='count'>"
      ]
     },
     "execution_count": 55,
     "metadata": {},
     "output_type": "execute_result"
    },
    {
     "data": {
      "image/png": "[encoded data removed]",
      "text/plain": [
       "<Figure size 720x360 with 1 Axes>"
      ]
     },
     "metadata": {
      "needs_background": "light"
     },
     "output_type": "display_data"
    }
   ],
   "source": [
    "plt.figure(figsize=(10,5))\n",
    "sns.countplot(x='Тип клиента', hue='Программа кредитования', data= df)"
   ]
  },
  {
   "cell_type": "code",
   "execution_count": null,
   "id": "196ab8ee",
   "metadata": {},
   "outputs": [],
   "source": []
  }
 ],
 "metadata": {
  "kernelspec": {
   "display_name": "Python 3 (ipykernel)",
   "language": "python",
   "name": "python3"
  },
  "language_info": {
   "codemirror_mode": {
    "name": "ipython",
    "version": 3
   },
   "file_extension": ".py",
   "mimetype": "text/x-python",
   "name": "python",
   "nbconvert_exporter": "python",
   "pygments_lexer": "ipython3",
   "version": "3.9.12"
  },
  "varInspector": {
   "cols": {
    "lenName": 16,
    "lenType": 16,
    "lenVar": 40
   },
   "kernels_config": {
    "python": {
     "delete_cmd_postfix": "",
     "delete_cmd_prefix": "del ",
     "library": "var_list.py",
     "varRefreshCmd": "print(var_dic_list())"
    },
    "r": {
     "delete_cmd_postfix": ") ",
     "delete_cmd_prefix": "rm(",
     "library": "var_list.r",
     "varRefreshCmd": "cat(var_dic_list()) "
    }
   },
   "types_to_exclude": [
    "module",
    "function",
    "builtin_function_or_method",
    "instance",
    "_Feature"
   ],
   "window_display": false
  }
 },
 "nbformat": 4,
 "nbformat_minor": 5
}
